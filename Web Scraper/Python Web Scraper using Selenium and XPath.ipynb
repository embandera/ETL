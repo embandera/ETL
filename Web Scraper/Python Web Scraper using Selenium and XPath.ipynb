{
 "cells": [
  {
   "cell_type": "markdown",
   "metadata": {},
   "source": [
    "### Python Web Scraper using Selenium and XPath\n",
    "\n",
    "##### Project Overview: What insights can educators leverage from an analysis of university course offerings this Fall? How can course offerings provide insight on the impact of COVID-19 to international students and universities? \n",
    "\n",
    "I attempt to explore these questions by scraping a university's course listings, building a SQL database and connecting the data to Tableau, with a goal of building an interactive visualization that can permit non-technical educators in the field of international education to\n",
    "\n",
    "* find out what times international students abroad are logging on to attend courses scheduled in PST (or students not on PST time) \n",
    "    * assess the time differences and impact of unusual study times on student academic experience\n",
    "* estimate the number of students who might be impacted / studying outside in non-PST time zones\n",
    "* find out how many courses are being offered at certain PST times and how these translate to other time zones \n",
    "* plan for actionable recommendations that can be made to university advisors and educators \n",
    "    * such as, exploring the need for accomodations, recorded lectures, alternate test-taking times \n",
    "\n",
    "##### Background\n",
    "Through my advising and participating in university events, I first learned that some international students were having difficulty with adjusting to taking courses scheduled in PST. Many international and domestic students have returned home to continue their studies during the pandemic, and are taking courses outside of the PST time zone. I had a feeling that this was important, and a topic I was eager to help find a solution for. But just how many students were being impacted by this? What was the magnitude of the problem? The questions around scope tend to come to mind first, as an educator working in a large university. The academic experiences of international students (and students in general during this time) are tougher than normal and issues abound. But I thought this particular issue might be impacting enough students to be of high concern. I wasn't exactly sure what the lanscape of courses/time zones looked like, and I suspected other educators might have felt limited in the same way. I thought that if educators could better understand the problem, they might be able to come up with solutions. \n",
    "\n",
    "I recently heard a TWIML podcast episode with [Sal Khan](https://www.youtube.com/watch?v=qjTKUZIPxLk) where Sal urges educators to look at education initiatives during the pandemic in the context of disaster relief. By thinking about the current state of education in the pandemic as a disaster, I was inspired to place an even greater level of concern for students and especially those who are being disproportinately impacted. One of the first populations that comes to mind, is international students and those who have returned home and are attending univrsity virtually. \n",
    "\n",
    "I had also recently been part of conversations around the questions first discussed in the project overview above: How were international students abroad adjusting to taking their PST-based courses? What challenges were they experiencing? \n",
    "\n",
    "I was eager to find out the details of this issue and provide a tool for other educators to assess the situation and apply their own experience towards finding solutions or making recommendations. \n",
    "\n",
    "##### Building the web scraper \n",
    "The other incentive I had for pursuing this project, was the opportunity to gain experience with building out a Python web scraper. I started by studying how to build a Python webscraper using Beautiful Soup but after a couple of hours, I realized that I would need to do some more research because the code I was writing wasn't working and wasn't locating the elements I needed like course times. I didn't have experience with other web scraping tools at that point, so I started to Google. I found a [student's project](https://nathansmith.io/posts/scraping-enrollment-data-from-the-ucla-registrar-part-one) sharing their own experience scraping the same course enrollment website. I saw that they also attempted to use Beautiful Soup and Python but moved on to other languages after discovering there was a lot more dynamic content than they expected and would need to use another tool or language. I thought that I might be able to retrace the student's steps, but I saw them jump to building the scraper using methods I was even less familiar with like writing code in Javascript and Go. \n",
    "\n",
    "I thought I would take a step back and stick with Python, and research other ways I could leverage Python to scrape the course enrollment website. In reading the student's article above, I also found another [cool project](https://stack.dailybruin.com/2018/11/08/how-long-are-lectures/) using information that was scraped and published as an analysis of lengths of lectures on the university's blog. The project had used a scraper built with Selenium. Seeing the second project gave me an extra boost of confidence that I could use Python and Selenium, and off I went, into the world of Youtube code tutorials. I wanted to learn how to leverage Selenium and sure enough, I found a couple of great tutorials like [this one](https://www.youtube.com/watch?v=zjo9yFHoUl8) and [this one](https://www.youtube.com/watch?v=Xjv1sY630Uc&t=605s). I learned that I could use XPath to locate the elements I needed and just enough about XPath to leverage it in this project so far. I did bookmark three or four lengthier tutorials on XPath that I plan to come back to. Definitely an interesting and powerful method of locating dynamic elements!  \n",
    "\n",
    "##### Currently\n",
    "I am building out the web scraper using Python, Selenium and XPath and focusing just on building a working web scraper for the courses offered in the Computer Science department. Once I am able to do this, I'll have the web scraper search through the rest of the course subject areas. I plan on passing the retrieved data to a csv and conducting a brief EDA before moving to pass the data to a database I build with PostgreSQL. I might decide to just connect the csv to Tableau but I think a database with the capacity to continuously store data that is being scraped might be a good idea.  \n",
    "\n",
    "##### Next Steps \n",
    "* Brief Exploratory Data Analysis \n",
    "* Build SQL Database \n",
    "* Connect to Tableau and build an interactive dashboard "
   ]
  },
  {
   "cell_type": "code",
   "execution_count": 1,
   "metadata": {},
   "outputs": [],
   "source": [
    "import pandas as pd\n",
    "import re \n",
    "# Import time"
   ]
  },
  {
   "cell_type": "code",
   "execution_count": 2,
   "metadata": {},
   "outputs": [],
   "source": [
    "from selenium import webdriver\n",
    "from selenium.webdriver.common.keys import Keys\n",
    "\n",
    "PATH = \"/Users/mitzibandera/chromedriver\"\n",
    "\n",
    "driver = webdriver.Chrome(PATH)\n",
    "driver.get(\"https://sa.ucla.edu/ro/Public/SOC/Results?t=20F&sBy=subject&sName=Computer+Science+%28COM+SCI%29&subj=COM+SCI&crsCatlg=Enter+a+Catalog+Number+or+Class+Title+%28Optional%29&catlg=&cls_no=&btnIsInIndex=btn_inIndex\")\n",
    "\n",
    "# Note to self: write code to delay running the next two lines of code for about 10 or 15 seconds \n",
    "    # likely this code comes from time library\n",
    "# Note to self: im curious to explore how to run the code without having the broswer pop up\n",
    "    # i think its called a headless browser, may have seen an example in the tech with tim tutorial"
   ]
  },
  {
   "cell_type": "code",
   "execution_count": 3,
   "metadata": {},
   "outputs": [],
   "source": [
    "# Click to open all of the course title links \n",
    "link = driver.find_element_by_link_text(\"Expand All Classes\")\n",
    "link.click()"
   ]
  },
  {
   "cell_type": "code",
   "execution_count": 4,
   "metadata": {},
   "outputs": [],
   "source": [
    "course_name=[] # List where class names are stored\n",
    "all_data = [] # List to hold dictionaries\n",
    "\n",
    "# Locate course titles and assigning to courseTitleElems\n",
    "courseTitleElems = driver.find_elements_by_xpath(\"//h3[@class='head']\")\n",
    "# Write loop to print courses and their corresponding times \n",
    "for courseTitleElem in courseTitleElems:\n",
    "    # Pull text from the located element\n",
    "    courseTitle = courseTitleElem.text\n",
    "    # Add course titles to the course_name list \n",
    "    course_name.append(courseTitle)\n",
    "    # Locate time elements and assign to timeElems\n",
    "    timeElems = courseTitleElem.find_elements_by_xpath(\"following-sibling::div/div[contains(@id,'children')]//div[contains(@class,'timeColumn')]\")\n",
    "    for timeElem in timeElems:\n",
    "        # Pull text from the located element\n",
    "        timeColumn = timeElem.get_attribute(\"textContent\").strip(\"\\n\")\n",
    "        # Create the dictionary containing the data for each row\n",
    "        course_info = {\"Course Title\": courseTitle, \"Time\": timeColumn}\n",
    "        # Append the dictionary to the all_datalist\n",
    "        all_data.append(course_info)\n",
    "        \n",
    "# Create dataframe \n",
    "df = pd.DataFrame(all_data)"
   ]
  },
  {
   "cell_type": "code",
   "execution_count": 15,
   "metadata": {},
   "outputs": [
    {
     "name": "stdout",
     "output_type": "stream",
     "text": [
      "\n",
      "        \n",
      "                F\n",
      "        \n",
      "        4pm-5:50pm\n",
      "    \n"
     ]
    }
   ],
   "source": [
    "print(\"\\n\" + timeColumn)"
   ]
  },
  {
   "cell_type": "code",
   "execution_count": 5,
   "metadata": {},
   "outputs": [
    {
     "data": {
      "text/html": [
       "<div>\n",
       "<style scoped>\n",
       "    .dataframe tbody tr th:only-of-type {\n",
       "        vertical-align: middle;\n",
       "    }\n",
       "\n",
       "    .dataframe tbody tr th {\n",
       "        vertical-align: top;\n",
       "    }\n",
       "\n",
       "    .dataframe thead th {\n",
       "        text-align: right;\n",
       "    }\n",
       "</style>\n",
       "<table border=\"1\" class=\"dataframe\">\n",
       "  <thead>\n",
       "    <tr style=\"text-align: right;\">\n",
       "      <th></th>\n",
       "      <th>Course Title</th>\n",
       "      <th>Time</th>\n",
       "    </tr>\n",
       "  </thead>\n",
       "  <tbody>\n",
       "    <tr>\n",
       "      <td>0</td>\n",
       "      <td>1 - Freshman Computer Science Seminar</td>\n",
       "      <td>\\n                F\\n        \\n       ...</td>\n",
       "    </tr>\n",
       "    <tr>\n",
       "      <td>1</td>\n",
       "      <td>1 - Freshman Computer Science Seminar</td>\n",
       "      <td>\\n                M\\n        \\n       ...</td>\n",
       "    </tr>\n",
       "    <tr>\n",
       "      <td>2</td>\n",
       "      <td>1 - Freshman Computer Science Seminar</td>\n",
       "      <td>\\n                M\\n        \\n       ...</td>\n",
       "    </tr>\n",
       "    <tr>\n",
       "      <td>3</td>\n",
       "      <td>1 - Freshman Computer Science Seminar</td>\n",
       "      <td>\\n                M\\n        \\n       ...</td>\n",
       "    </tr>\n",
       "    <tr>\n",
       "      <td>4</td>\n",
       "      <td>19 - From Impossible to I'm Possible: Analysis...</td>\n",
       "      <td>\\n                T\\n        \\n       ...</td>\n",
       "    </tr>\n",
       "    <tr>\n",
       "      <td>...</td>\n",
       "      <td>...</td>\n",
       "      <td>...</td>\n",
       "    </tr>\n",
       "    <tr>\n",
       "      <td>129</td>\n",
       "      <td>181 - Introduction to Formal Languages and Aut...</td>\n",
       "      <td>\\n                F\\n        \\n       ...</td>\n",
       "    </tr>\n",
       "    <tr>\n",
       "      <td>130</td>\n",
       "      <td>181 - Introduction to Formal Languages and Aut...</td>\n",
       "      <td>\\n                F\\n        \\n       ...</td>\n",
       "    </tr>\n",
       "    <tr>\n",
       "      <td>131</td>\n",
       "      <td>181 - Introduction to Formal Languages and Aut...</td>\n",
       "      <td>\\n                F\\n        \\n       ...</td>\n",
       "    </tr>\n",
       "    <tr>\n",
       "      <td>132</td>\n",
       "      <td>M182 - Dynamic Biosystem Modeling and Simulati...</td>\n",
       "      <td>\\n                TR\\n        \\n      ...</td>\n",
       "    </tr>\n",
       "    <tr>\n",
       "      <td>133</td>\n",
       "      <td>M182 - Dynamic Biosystem Modeling and Simulati...</td>\n",
       "      <td>\\n                F\\n        \\n       ...</td>\n",
       "    </tr>\n",
       "  </tbody>\n",
       "</table>\n",
       "<p>134 rows × 2 columns</p>\n",
       "</div>"
      ],
      "text/plain": [
       "                                          Course Title  \\\n",
       "0                1 - Freshman Computer Science Seminar   \n",
       "1                1 - Freshman Computer Science Seminar   \n",
       "2                1 - Freshman Computer Science Seminar   \n",
       "3                1 - Freshman Computer Science Seminar   \n",
       "4    19 - From Impossible to I'm Possible: Analysis...   \n",
       "..                                                 ...   \n",
       "129  181 - Introduction to Formal Languages and Aut...   \n",
       "130  181 - Introduction to Formal Languages and Aut...   \n",
       "131  181 - Introduction to Formal Languages and Aut...   \n",
       "132  M182 - Dynamic Biosystem Modeling and Simulati...   \n",
       "133  M182 - Dynamic Biosystem Modeling and Simulati...   \n",
       "\n",
       "                                                  Time  \n",
       "0            \\n                F\\n        \\n       ...  \n",
       "1            \\n                M\\n        \\n       ...  \n",
       "2            \\n                M\\n        \\n       ...  \n",
       "3            \\n                M\\n        \\n       ...  \n",
       "4            \\n                T\\n        \\n       ...  \n",
       "..                                                 ...  \n",
       "129          \\n                F\\n        \\n       ...  \n",
       "130          \\n                F\\n        \\n       ...  \n",
       "131          \\n                F\\n        \\n       ...  \n",
       "132          \\n                TR\\n        \\n      ...  \n",
       "133          \\n                F\\n        \\n       ...  \n",
       "\n",
       "[134 rows x 2 columns]"
      ]
     },
     "execution_count": 5,
     "metadata": {},
     "output_type": "execute_result"
    }
   ],
   "source": [
    "# Print df \n",
    "df"
   ]
  },
  {
   "cell_type": "code",
   "execution_count": 11,
   "metadata": {},
   "outputs": [],
   "source": [
    "# Conveting Time to string data type \n",
    "df['Time'] = str(df['Time'])"
   ]
  },
  {
   "cell_type": "code",
   "execution_count": 12,
   "metadata": {},
   "outputs": [
    {
     "name": "stdout",
     "output_type": "stream",
     "text": [
      "[]\n"
     ]
    }
   ],
   "source": [
    "# Define the list and the regex pattern to match\n",
    "time = df['Time']\n",
    "pattern = '[A-Z]+'\n",
    "# Filter out all elements that match the pattern\n",
    "filtered = [x for x in time if re.match(pattern, x)]\n",
    "print(filtered)"
   ]
  },
  {
   "cell_type": "code",
   "execution_count": 13,
   "metadata": {},
   "outputs": [],
   "source": [
    "# Pass data to csv file\n",
    "# df.to_csv(r'class_data.csv', index = False, header=True)"
   ]
  }
 ],
 "metadata": {
  "kernelspec": {
   "display_name": "Python 3",
   "language": "python",
   "name": "python3"
  },
  "language_info": {
   "codemirror_mode": {
    "name": "ipython",
    "version": 3
   },
   "file_extension": ".py",
   "mimetype": "text/x-python",
   "name": "python",
   "nbconvert_exporter": "python",
   "pygments_lexer": "ipython3",
   "version": "3.7.4"
  }
 },
 "nbformat": 4,
 "nbformat_minor": 2
}
